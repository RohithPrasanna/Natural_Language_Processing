{
  "nbformat": 4,
  "nbformat_minor": 0,
  "metadata": {
    "colab": {
      "name": "Poem_generator.ipynb",
      "provenance": []
    },
    "kernelspec": {
      "name": "python3",
      "display_name": "Python 3"
    },
    "accelerator": "GPU"
  },
  "cells": [
    {
      "cell_type": "markdown",
      "metadata": {
        "id": "bzKoMOxK-nNM",
        "colab_type": "text"
      },
      "source": [
        "## Poem Generator\n",
        "The objective of this project is to generate poems based on a user defined prompt (a word or a phrase) using the gpt2 language model and the tesnorflow deep learning framework"
      ]
    },
    {
      "cell_type": "markdown",
      "metadata": {
        "id": "Gn0uo__G_CQI",
        "colab_type": "text"
      },
      "source": [
        "#### Import the reuqired frameworks and modules"
      ]
    },
    {
      "cell_type": "code",
      "metadata": {
        "id": "P8Lt4OMXaK4j",
        "colab_type": "code",
        "colab": {
          "base_uri": "https://localhost:8080/",
          "height": 187
        },
        "outputId": "da6311aa-ccfd-4f18-f121-df2985f1f9e6"
      },
      "source": [
        "import os\n",
        "import pandas as pd\n",
        "\n",
        "%tensorflow_version 1.x\n",
        "\n",
        "try:\n",
        "  import gpt_2_simple as gpt2\n",
        "except:\n",
        "  !pip3 -q install gpt-2-simple\n",
        "  import gpt_2_simple as gpt2"
      ],
      "execution_count": null,
      "outputs": [
        {
          "output_type": "stream",
          "text": [
            "TensorFlow 1.x selected.\n",
            "  Building wheel for gpt-2-simple (setup.py) ... \u001b[?25l\u001b[?25hdone\n",
            "WARNING:tensorflow:\n",
            "The TensorFlow contrib module will not be included in TensorFlow 2.0.\n",
            "For more information, please see:\n",
            "  * https://github.com/tensorflow/community/blob/master/rfcs/20180907-contrib-sunset.md\n",
            "  * https://github.com/tensorflow/addons\n",
            "  * https://github.com/tensorflow/io (for I/O related ops)\n",
            "If you depend on functionality not listed there, please file an issue.\n",
            "\n"
          ],
          "name": "stdout"
        }
      ]
    },
    {
      "cell_type": "markdown",
      "metadata": {
        "id": "cwv8nnrl_Lov",
        "colab_type": "text"
      },
      "source": [
        "#### Donwload and save the model to a directory"
      ]
    },
    {
      "cell_type": "code",
      "metadata": {
        "id": "_pFsdsnIaVgA",
        "colab_type": "code",
        "colab": {
          "base_uri": "https://localhost:8080/",
          "height": 136
        },
        "outputId": "3cf0f7e1-42d3-41e4-ba6b-b7a0e2c0e43c"
      },
      "source": [
        "gpt2.download_gpt2(model_name=\"124M\")   # model is saved into current directory under /models/124M/"
      ],
      "execution_count": null,
      "outputs": [
        {
          "output_type": "stream",
          "text": [
            "Fetching checkpoint: 1.05Mit [00:00, 692Mit/s]                                                      \n",
            "Fetching encoder.json: 1.05Mit [00:00, 93.3Mit/s]                                                   \n",
            "Fetching hparams.json: 1.05Mit [00:00, 402Mit/s]                                                    \n",
            "Fetching model.ckpt.data-00000-of-00001: 498Mit [00:03, 128Mit/s]\n",
            "Fetching model.ckpt.index: 1.05Mit [00:00, 281Mit/s]                                                \n",
            "Fetching model.ckpt.meta: 1.05Mit [00:00, 137Mit/s]                                                 \n",
            "Fetching vocab.bpe: 1.05Mit [00:00, 187Mit/s]                                                       \n"
          ],
          "name": "stderr"
        }
      ]
    },
    {
      "cell_type": "markdown",
      "metadata": {
        "id": "nl3ytCY__VFS",
        "colab_type": "text"
      },
      "source": [
        "#### Specify the arguments for finetuning"
      ]
    },
    {
      "cell_type": "code",
      "metadata": {
        "id": "pfdP_qkAanR4",
        "colab_type": "code",
        "colab": {}
      },
      "source": [
        "learning_rate = 0.0001\n",
        "optimizer = 'adam' # adam or sgd\n",
        "batch_size = 1\n",
        "model_name = \"124M\" # Has to match one downloaded locally\n",
        "sess = gpt2.start_tf_sess()"
      ],
      "execution_count": null,
      "outputs": []
    },
    {
      "cell_type": "markdown",
      "metadata": {
        "id": "J6tMBdbD_c0m",
        "colab_type": "text"
      },
      "source": [
        "#### Finetune the language model for the input with the specific arguments defined above"
      ]
    },
    {
      "cell_type": "code",
      "metadata": {
        "id": "blIFHfm6a3qN",
        "colab_type": "code",
        "colab": {
          "base_uri": "https://localhost:8080/",
          "height": 1000
        },
        "outputId": "b22cabe6-72f3-439d-b821-e319328cddf5"
      },
      "source": [
        "gpt2.finetune(sess,\n",
        "              '/content/Poems.txt',\n",
        "              model_name=model_name,\n",
        "              sample_every=20,\n",
        "              save_every=50,\n",
        "              print_every=50,\n",
        "              learning_rate=learning_rate,\n",
        "              batch_size=batch_size,\n",
        "              restore_from='latest',\n",
        "              overwrite = True,\n",
        "              steps=100)   # max number of training steps"
      ],
      "execution_count": null,
      "outputs": [
        {
          "output_type": "stream",
          "text": [
            "WARNING:tensorflow:From /usr/local/lib/python3.6/dist-packages/gpt_2_simple/src/sample.py:17: where (from tensorflow.python.ops.array_ops) is deprecated and will be removed in a future version.\n",
            "Instructions for updating:\n",
            "Use tf.where in 2.0, which has the same broadcast rule as np.where\n",
            "Loading checkpoint models/124M/model.ckpt\n",
            "INFO:tensorflow:Restoring parameters from models/124M/model.ckpt\n"
          ],
          "name": "stdout"
        },
        {
          "output_type": "stream",
          "text": [
            "\r  0%|          | 0/1 [00:00<?, ?it/s]"
          ],
          "name": "stderr"
        },
        {
          "output_type": "stream",
          "text": [
            "Loading dataset...\n"
          ],
          "name": "stdout"
        },
        {
          "output_type": "stream",
          "text": [
            "100%|██████████| 1/1 [00:00<00:00,  2.50it/s]\n"
          ],
          "name": "stderr"
        },
        {
          "output_type": "stream",
          "text": [
            "dataset has 53956 tokens\n",
            "Training...\n",
            "Saving checkpoint/run1/model-0\n",
            "======== SAMPLE 1 ========\n",
            "t, the other man who lived by the sword.\n",
            "\n",
            "The king of the East said, If you want to live I will not tell you! But, though that you wish to live, let me not give you a single word of your opinion—\n",
            "and if I give you a word, then I will tell you;\n",
            "but if I do not give you a word, then I will tell you!\" And he looked round, and said, \"If you want to live, I will say that you must learn to live!\"\n",
            "Then he was silent, and he said to the woman who lived by his sword:\n",
            "Now the first thing you should hear is—What is your name! Why do you speak with your back turned to the wall? And how many of these people you meet and whom you meet with in common do you know?\n",
            "And when you hear their names, there must still be hope!\n",
            "Now you should hear them not, but you should not be afraid.\n",
            "When you hear their names, there must still be hope!\n",
            "But no one ever knows—\n",
            "and you, too, shall never know that all men must die for you.\n",
            "If you heard their names, there must still be hope!\n",
            "But no one ever knows that all men must die for you.\n",
            "\n",
            "If you heard their names, there must still be hope!\n",
            "But no one ever knows—\n",
            "and you, too, shall never know that all men must die for you.\n",
            "And then he said to her, \"Don't want a single word I give you!\" And she replied, \"You know my word: Don't want any word I give you!\"\n",
            "And he said, \"You will love me for you, too!\" And she gave him the coat of arms, and he put that upon her arms again.\n",
            "Then she said, \"Don't want a single word I give you!\"\n",
            "And he said, \"You will love me as a friend!\" And she gave him the coat of arms, and he put it upon her arms again, and he said, \"Don't want a single word I give you!\" And she gave him the coat of arms again, and he said, \"Don't want a single word I give you!\"\n",
            "Then she said, \"I am the one who will love you, too! You must love me—\n",
            "and love me for me! If my name is known! If my name is known!\"\n",
            "And he said to her, \"You have earned the right to love me for you!\n",
            "If your name is known! If my name is known!\"\n",
            "But they both looked back at him, but did not say enough. Then he said to her, \"I think you understand that your name should have never been known!\"\n",
            "They then each looked behind him, and he said to her, \"Don't ever doubt! Don't ever pretend ever to know what I am!\"\n",
            "Then he went on, and there she sat in the sofa. She was very happy with what she had had at that night, in the room where she had been, and still more happy with the happy things she had said to the other guests—\n",
            "and they laughed happily, too much. Then they parted. She sat down with him; and he took her hand, and kissed her.\n",
            "When she went back to her room, he kissed her again; but she was very happy with what she had had there.\n",
            "When the rest of the kitchen was out, the cook and the woman with the big cup were waiting outside.\n",
            "When they got there, they saw that the door had been left open to the room where they were to sit; and when they got out of the kitchen, they saw that the door had left open to that room where they were to sit; and when they got out of the kitchen, they saw that the room where they were to sit was now locked; and in the bathroom the door had been left open to that room where they were to sit, and in the bathroom they now saw that the door had left open to that room where they were to sit;\n",
            "and that they now saw they had the house now set free. Where the land is now, they could now go back and forth to that town, and they would soon find the land of their life!\n",
            "They found that the land they had taken from the land of their fathers was the land of the land they now took from it—the land of their cities and towns.\n",
            "They found that land of their fathers was the land of their cities and towns.\n",
            "They would soon find the land of their lives. Where the land is now, they could, they said, find the land of their cities and towns. And to be sure, they could not think of anything in which to eat or drink.\n",
            "They found that land of their fathers, that was what they now took, but to eat and drink and dwell in did not in themselves express the need of being hungry.\n",
            "\n",
            "======== SAMPLE 1 ========\n",
            " island\n",
            "and its neighbors.\n",
            "While a small town of eighty, a village of eighty-four, there was a village\n",
            "of eighty-seven, a village of eighty-seven, a village of eighty-seven,\n",
            "a town of eighty-seven, a village of eighty-seven,\n",
            "a village of eighty-seven, a village of eighty-seven,\n",
            "a town of eighty-seven, a village of eighty-seven,\n",
            "\n",
            "a village of eighty-seven, a village of eighty-seven,\n",
            "a village of eighty-seven, a village of eighty-seven,\n",
            "a village of eighty-seven, a village of eighty-seven,\n",
            "a town of eighty-seven, a village of eighty-seven,\n",
            "\n",
            "\n",
            "\"Come,\" said the man, he turning his face away from the mirror.\n",
            "The woman had long since removed her coat, and the child and dog had grown inside\n",
            "behind her,\n",
            "but he was so far away from her that he knew exactly what he was\n",
            "asking.\n",
            "I came in a very young state;\n",
            "I was forty-seven (the year was eighty-seven)\n",
            "and we had to go to school.\n",
            "\n",
            "I was a teacher, and I was the only child\n",
            "of good luck (who knew that all children must not fail at school). Not rich, I wasn't,\n",
            "but I knew I wasn't. I wasn't happy, I wasn't proud. I wasn't happy;\n",
            "nothing did to me that I was not,\n",
            "but I was a beggar, I was a fool.\n",
            "I was at home at the time of the plague;\n",
            "I was working on my farm;\n",
            "I was home at the time when my mother died;\n",
            "I was at home at the time when her dog died (though she couldn't remember\n",
            "when she died),\n",
            " and I wasn't home.\n",
            "I went home, and I was going to teach my children to live;\n",
            "I went back to the farmhouse, and I was working on the farm\n",
            "and I was going to sit at home and think (who am I kidding?)\n",
            "When I was forty four my first good look was my mother.\n",
            "I thought, 'You'll find out,'\n",
            "and I said to her,\n",
            "\n",
            "When I was forty-two my first step was my mother.\n",
            "I knew that she wasn't rich—she sold out all her years;\n",
            "I knew that she was poor—she sold out all her years;\n",
            "I knew that she wasn't rich—she sold out all her years;\n",
            "And, after I'd taught a new generation of children to read,\n",
            "I sat at home and looked at the things around me.\n",
            "I'd been informed a few years earlier that my mother was poor.\n",
            "\n",
            "I looked at her—\n",
            "Then she said,\n",
            "She sold out all her years;\n",
            "\n",
            "And I said to her,—\n",
            "She sold out all her years;\n",
            "I'd never seen her, never heard a word of her,\n",
            "No one's seen her, neither the dogs, for they came on deck\n",
            "and I was looking on, so I said to the poor woman,\n",
            "Listen. I understand; I understand.\n",
            "She said,\n",
            "We know what's got you—how lucky we are—how many of you have sold\n",
            "out years.\n",
            "I listened—\n",
            "It's all got to go—\n",
            "She said to me,\n",
            "We know what's got you—how many of us have sold\n",
            "out years.\n",
            "I thought, I thought my mother was poor.\n",
            "\n",
            "At twenty-two she sold out nearly her whole mane;\n",
            "By three or four years older I became rich;\n",
            "The rest, I think, has got to go—I just\n",
            "I wonder what my mother was willing to spend\n",
            "before she sold out.\n",
            "\n",
            "\"She sold out all her years!\" screamed the mother, with a voice unheard\n",
            "\n",
            "of a child.\n",
            "She said,\n",
            "I understand! I understand! I understand.\n",
            "I looked at her—\n",
            "When I was forty-seven my first good look\n",
            "was my mother.\n",
            "\n",
            "I knew that she wasn't rich—she sold out all\n",
            "his years;\n",
            "I knew that she was poor—she sold out all\n",
            "his years.\n",
            "\n",
            "\"When I was forty-two my first good look\n",
            "was my mother.\n",
            "I sold out all my years, I sold out\n",
            "the other way around,\" she said,\n",
            "while explaining to my father that I must learn to live\n",
            "a new life.\n",
            "\"I sold out all my years as a child,\n",
            "my first good look was my mother,\"\n",
            "said I, in a melancholy tone.\n",
            "I said,\n",
            "I understand;\n",
            "\n",
            "\"We know what's got you—how much we are willing\n",
            "to sacrifice when we have sold out our lives.\n",
            "\n",
            "I'm a young man, old lady—I've sold out my whole mane—\n",
            "\n",
            "[50 | 143.69] loss=2.90 avg=2.90\n",
            "Saving checkpoint/run1/model-50\n",
            "WARNING:tensorflow:From /tensorflow-1.15.2/python3.6/tensorflow_core/python/training/saver.py:963: remove_checkpoint (from tensorflow.python.training.checkpoint_management) is deprecated and will be removed in a future version.\n",
            "Instructions for updating:\n",
            "Use standard file APIs to delete files with this prefix.\n",
            "======== SAMPLE 1 ========\n",
            " to get to the place you need to go.   But we all feel the same way.\n",
            "\n",
            "We sit on our couch, and our phones are silent. This is not real. We are here because someone sent us your phone number.\n",
            "\n",
            "No, I can't keep this conversation away from you, this one with the woman who wrote the name \"Jacqueline\" on it.\n",
            "I have to do this. I have to feel that way. I have to know that this is who I am. In the moment, I feel like an instrument, even an instrument with its own instrumentation.\n",
            "But I don't feel like that! That's just me: an artist with a keyboard, a camera on his lap, the whole world in one spot, with the world at his feet.\n",
            "This is my whole body, inside and out; my whole soul, and inside and out. This is me, that's me only, and a little bit; this is why I'm here; this is why you brought me here.\n",
            "I want you to know it's not me, it's you: this is my whole being, inside and out, and inside and out. And I want you to see it, too!\n",
            "I want you to hold me still while my voice is being filled with song.\n",
            "I want you to take my heart in your arms while your handfalls on my breast.\n",
            "I want you to embrace me with a kiss, as I embrace you with my body.\n",
            "I want you to feel my soft, warm embrace.\n",
            "But I don't want to feel your hands on my hips\n",
            "holding my breasts beneath my shirt.\n",
            "I don't want to feel anyone's hands gently caressing my hips.\n",
            "I don't want to hear anyone's kiss on my back.\n",
            "I want to feel how softly you're sliding a portion of my body in and out inside you.\n",
            "I want to feel your soft, warm embrace inside me and I need to be there\n",
            "so that I won't be stopped.\n",
            "\n",
            "Just for a moment, the rest of the song goes on. We've spent the night alone, we've just begun playing the concert page, and the first track we've finished is \"Gotta Get By With It.\" I want you to take this away from me, so I can feel you, too. I want you to embrace me with a kiss, as I embrace you with my body.\n",
            "I want you to feel how gently your fingertips are sliding a portion of my body in and out inside you\n",
            "holding my breasts under my shirt.\n",
            "I want you to feel how softly your fingers are sliding a portion of my body in and out inside you\n",
            "holding my breasts under my shirt. (I can't help but feel your smile slip over my cheek in the embrace, just as I try to imagine how close you really are to getting to going in and out.)\n",
            "I want you to feel how tight my muscles are keeping you from leaving me\n",
            "and then I'll kiss you, I promise. I want you to feel what my body feels inside me, and I want you to touch my bosom. I want you to kiss my heart, and I want you to feel where there is my warmth, and when there is neither, and I want you to get to my waist. And I want you to tease me with your tongue, as I tease you with my body. I want you to get to my waist, and I want you to touch my lip, inside me, and inside me, just like that. And I want you to tease my tits, and I want you to tease my moans, and I want you to tease my wet mouth, and I want you to tease my wet tongue, and I want you to tease my tight asshole, and I want you to tease my tight little clit inside me, and I want you to tease my tight snatch inside me, and I want you to tease my tight little clit when I'm fucking you, right now, inside me, and inside me, just watching my tight little clit go, just like that...\n",
            "And I want you to tease my tight little nipple, and I want you to tease my wet cunt inside me, just like that, and I want you to tease my wet tongue inside me, and I want you to tease my wet tongue when I'm fucking you; and I want you to tease my wet clit inside me, inside me, and inside me. And I want you to tease my tight little clit inside me, just before I'm fucking you, inside me, just before I'm fucking you; and I want you to tease my tight little clit inside me, just before I'm fucking you, just before I'm, and then I'm done, just before I'm going to go; and I love you, I love you, I love you, that's all I want!\n",
            "Let me know what you like, too, and I\n",
            "\n",
            "======== SAMPLE 1 ========\n",
            " and\n",
            "a few minutes after leaving the hospital\n",
            "they lay on top of one another\n",
            "some\n",
            "concerned\n",
            "but others\n",
            "concerned\n",
            "\n",
            "\n",
            "\n",
            "\n",
            "\n",
            "they left the hospital\n",
            "\n",
            "on an invisible island\n",
            "\n",
            "where they could see and hear\n",
            "a woman in her thirties sitting in the rain\n",
            "watching\n",
            "her step\n",
            "being watched by\n",
            "as many as four men sitting on the bus waiting\n",
            "at a post office.\n",
            "But even the men\n",
            "had doubts\n",
            "about their roles\n",
            "\n",
            "they were women. They were watching\n",
            "a man\n",
            "with no pulse\n",
            "with little blood on his\n",
            "ribs\n",
            "s. There were no\n",
            "clothes\n",
            "on his back. His fingers\n",
            "had taken up every scrap\n",
            "behind his ear.\n",
            "And it didn't go away. It\n",
            "never did. It never will.\n",
            "You are not permitted to step into a woman's shoes\n",
            "\n",
            "because that's what the police called her\n",
            "\n",
            "and it's not what the people\n",
            "call her.\n",
            "\n",
            "You were a child yesterday.\n",
            "If you had to guess,\n",
            "you could say so: child not a citizen,\n",
            "a token of a backward birth\n",
            "\n",
            "and still be accused of being a child:\n",
            "the least you could do. You were\n",
            "child, a token of who you were:\n",
            "the least you could do\n",
            "on an earlier trip. No pretensions\n",
            "that you were not a citizen, or that you\n",
            "had not gone through the security\n",
            "procedures once before. So you were\n",
            "child who got your passport and your passport,\n",
            "passport, your passport\n",
            "on your way to an appropriate country:\n",
            "no one seemed particularly\n",
            "concerned about your passport being cancelled\n",
            "when, that day, your mother stepped in to replace it.\n",
            "\n",
            "She was a bit of a prat: a shy,\n",
            "woman, who tended to children, and wasn't very fond of men\n",
            "eating and sleeping. And not caring much for\n",
            "women sleeping rough or alone, either.\n",
            "What little respect she had for those around her,\n",
            "she seemed quite willing to give it up\n",
            "for her.\n",
            "One of the men in her thirties said he thought she'd grown\n",
            "smarter than her parents. Then the other man said he\n",
            "wouldn't mind if she looked like a child\n",
            "because even though she was a girl he wanted to stop her\n",
            "eating or sleeping. Finally she said\n",
            "\n",
            "What if she said so?\n",
            "I heard her raspy voice\n",
            "explore a few possibilities.\n",
            "One: she would be\n",
            "believed. (If so, we might even\n",
            "see the possibilities.) But then someone said\n",
            "\n",
            "She wasn't allowed to have that name. And I thought\n",
            "how dare that be. (Or at least pretend it isn't\n",
            "?) If, that is, she could use a public radio show.\n",
            "\n",
            "Then someone said\n",
            "\n",
            "She's a girl. Her first name\n",
            "is Kayla.\n",
            "\n",
            "But one day at a desk in the living room,\n",
            "someone pointed to a blank page\n",
            "and stated\n",
            "\n",
            "\n",
            "Name, year, state of birth, genders, ages,\n",
            "how long she had been here before\n",
            "she wrote 'Tis a Fallen Angel\n",
            "To celebrate six years\n",
            "of Sister Cordell's life and a hundred and fifty\n",
            "children.\n",
            "\n",
            "Name her Cordell, name her a hero, name\n",
            "how long until she says so.\n",
            "\n",
            "She is, after all, a girl. Not very popular\n",
            "with men\n",
            " or any other race. But then there are her\n",
            "family, and also the Seventh.\n",
            "\n",
            "Name her Seventh, name her Cordell,\n",
            "name her one after her.\n",
            "\n",
            "It is the silence of the angels\n",
            "that stir the hearts of the dumbest boys in town\n",
            "and the cheers of the loudest girls\n",
            "in town. Not my mother\n",
            "who speaks the least when it comes to boys,\n",
            "but her voice when it comes to girls,\n",
            "and the way that they sing and dance\n",
            "at the park's Christmas tree.\n",
            "\n",
            "It is the music of the children,\n",
            "and the laughter that rings in their hearts\n",
            "even though they aren't listening\n",
            "To Cordell's songs at all.\n",
            "I am here to tell you my story about where my mother came from and\n",
            "why she gave me a scholarship\n",
            "to University of Connecticut where my father taught.\n",
            "I don't know her,\n",
            "not exactly,\n",
            "she says in her softest voice,\n",
            "it's hard to say inside but\n",
            "\n",
            "it's the only way\n",
            "to make friends with the ones who are different.\n",
            "I am not alone, but even I have trouble agreeing.\n",
            "We're from the same family.\n",
            "It's her who told me\n",
            "My first name\n",
            "\n",
            "\n",
            " and that I was alone in the woods\n",
            "When my mother said\n",
            "No.\n",
            "She always told me\n",
            "My first name and my last.\n",
            "\n",
            "The rest is history\n",
            "or is it dream?\n",
            "\n",
            "[100 | 282.35] loss=1.63 avg=2.26\n",
            "Saving checkpoint/run1/model-100\n"
          ],
          "name": "stdout"
        }
      ]
    },
    {
      "cell_type": "markdown",
      "metadata": {
        "id": "EKbvMuOm_uy0",
        "colab_type": "text"
      },
      "source": [
        "#### Generate the poem for a user defined prompt"
      ]
    },
    {
      "cell_type": "code",
      "metadata": {
        "id": "5s663H02bPJD",
        "colab_type": "code",
        "colab": {}
      },
      "source": [
        "temp = 0.9\n",
        "lst_results=gpt2.generate(\n",
        "  sess,\n",
        "  prefix=\"Love\",\n",
        "  nsamples=10,\n",
        "  temperature=temp, # change me\n",
        "  top_p=1.0, # Change me\n",
        "  return_as_list=True,\n",
        "  include_prefix=False,\n",
        "  length = 200,\n",
        "  truncate='.'\n",
        "  )"
      ],
      "execution_count": null,
      "outputs": []
    },
    {
      "cell_type": "markdown",
      "metadata": {
        "id": "NfpMbTeP_3zQ",
        "colab_type": "text"
      },
      "source": [
        "#### The Generated Poem"
      ]
    },
    {
      "cell_type": "code",
      "metadata": {
        "id": "bGREsyoFfXSq",
        "colab_type": "code",
        "colab": {
          "base_uri": "https://localhost:8080/",
          "height": 816
        },
        "outputId": "c080a6d4-ea0a-4eae-ffad-cbd0e68e5766"
      },
      "source": [
        "#import textwrap\n",
        "for l in textwrap.wrap(\"\\n\".join(lst_results),35):\n",
        "    print(l)\n"
      ],
      "execution_count": null,
      "outputs": [
        {
          "output_type": "stream",
          "text": [
            "Love, where” bade my God,\n",
            "Dwelling, I entreat it;\n",
            "And yet, I cannot but dread Its\n",
            "gleaming eyes, its singing,    The\n",
            "ecstasy of thy love That is so well\n",
            "expressed in this song,\n",
            "Its lips are exquisite in love And\n",
            "they show forth a charming child\n",
            "And yet, oh, child, oh, blissful\n",
            "flower             And blissful\n",
            "child, oh, be—             Child,\n",
            "oh, blissful flower!\n",
            "Oh, child, my blissful flower!\n",
            "Oh, child, my blissful flower!\n",
            "(You are who you are) was My mother\n",
            "said I didn't know  Whether it was\n",
            "right or wrong    She said I don't\n",
            "know in' hot! spazzin' That was me!\n",
            "And it was I who got wet That got\n",
            "wet! spazzin' “Nevermore, Nevermore\n",
            "Love!              And the bird\n",
            "whistles\n",
            "Any soft balloon               That\n",
            "comes down             Not as water\n",
            "But the beat of its wing\n",
            "now is the day I shall see thee— A\n",
            "girl who came down the Mississippi\n",
            "to live     This is the song of\n",
            "antique decay’          I sing it\n",
            "over my grave,          on those\n",
            "white roads,         Tollbooth!\n",
            "Tollbooth! Tollbooth!\n",
            "That song, that sad sobriquet,\n",
            "When you sing it, it is likely that\n",
            "its maker              You, too,\n",
            "must comfort me  \" written and\n",
            "spoken in his native tongue\n",
            "Dancing I lied through my teeth\n",
            "But lukewarm fire burned through my\n",
            "fingertips Though no roses bloomed\n",
            "I was a Young the Landsman   I\n",
            "smelt Ethel Rembrandt's lace I\n",
            "remember one night, a little after\n",
            "dark, That long, smoking candle\n",
            "w/orn out by candlelight, It flared\n",
            "out near my window, And shone like\n",
            "a clear red light\n"
          ],
          "name": "stdout"
        }
      ]
    },
    {
      "cell_type": "code",
      "metadata": {
        "id": "f8ijzoUPVdNK",
        "colab_type": "code",
        "colab": {}
      },
      "source": [
        ""
      ],
      "execution_count": null,
      "outputs": []
    }
  ]
}